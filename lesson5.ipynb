{
 "cells": [
  {
   "cell_type": "code",
   "execution_count": 4,
   "metadata": {},
   "outputs": [
    {
     "name": "stdout",
     "output_type": "stream",
     "text": [
      "66\n",
      "YouBike2.0_和平公園東側\n",
      "YouBike2.0_復興南路二段340巷口\n",
      "YouBike2.0_溫州停車場\n",
      "YouBike2.0_和平龍泉街口\n",
      "YouBike2.0_捷運古亭站(5號出口)\n",
      "YouBike2.0_昌隆公園\n",
      "YouBike2.0_敦化市民路口\n",
      "YouBike2.0_懷生國中\n",
      "YouBike2.0_臺灣師範大學(浦城街)\n",
      "YouBike2.0_民權延平路口(西北側)\n",
      "YouBike2.0_捷運北門站(3號出口)\n",
      "YouBike2.0_南京太原路口\n",
      "YouBike2.0_雙蓮國小\n",
      "YouBike2.0_南京西寧北路口(西北側)\n",
      "YouBike2.0_劍潭抽水站\n",
      "YouBike2.0_銘傳大學\n",
      "YouBike2.0_社子國小\n",
      "YouBike2.0_文林路101巷口\n",
      "YouBike2.0_海光公園南側\n",
      "YouBike2.0_天母東路8巷/忠誠路二段154巷口\n",
      "YouBike2.0_景美運動公園\n",
      "YouBike2.0_興得閱覽室\n",
      "YouBike2.0_木南公園\n",
      "YouBike2.0_捷運動物園站(2號出口)\n",
      "YouBike2.0_名門社區\n",
      "YouBike2.0_捷運古亭站(9號出口)\n",
      "YouBike2.0_和平重慶路口\n",
      "YouBike2.0_捷運小南門站(1號出口)\n",
      "YouBike2.0_林森徐州路口\n",
      "YouBike2.0_羅斯福寧波東街口\n",
      "YouBike2.0_捷運臺大醫院站(1號出口)\n",
      "YouBike2.0_捷運中正紀念堂站(2號出口)\n",
      "YouBike2.0_螢橋公園\n",
      "YouBike2.0_公館水岸廣場\n",
      "YouBike2.0_捷運行天宮站(3號出口)\n",
      "YouBike2.0_新生高架停車場(林森北路107巷口)\n",
      "YouBike2.0_中山北路二段59巷口\n",
      "YouBike2.0_興安合江路口\n",
      "YouBike2.0_復華公園\n",
      "YouBike2.0_敬業三樂群三路口(西北側)\n",
      "YouBike2.0_長春路258巷2弄口\n",
      "YouBike2.0_中崙加油站\n",
      "YouBike2.0_中正國小(南京東路三段48巷)\n",
      "YouBike2.0_文德二號公園(南側)\n",
      "YouBike2.0_瑞陽公園\n",
      "YouBike2.0_碧湖公園(內湖路二段103巷)\n",
      "YouBike2.0_石潭公園(安康路)\n",
      "YouBike2.0_奇岩一號公園\n",
      "YouBike2.0_立功街55巷口\n",
      "YouBike2.0_泉源路23巷口\n",
      "YouBike2.0_三民路166巷口\n",
      "YouBike2.0_健康社會住宅\n",
      "YouBike2.0_延壽街119巷口\n",
      "YouBike2.0_寶清八德路口(北側)\n",
      "YouBike2.0_捷運南港軟體園區(2號出口)\n",
      "YouBike2.0_向陽南港路口(西北側)\n",
      "YouBike2.0_基隆路二段159巷口\n",
      "YouBike2.0_光復信義路口東南側\n",
      "YouBike2.0_松智松壽路口\n",
      "YouBike2.0_市府松壽路口\n",
      "YouBike2.0_協和祐德高級中學\n",
      "YouBike2.0_吳興街284巷(廣安宮)\n",
      "YouBike2.0_萬大路486巷口\n",
      "YouBike2.0_龍山國中\n",
      "YouBike2.0_臺大農化新館西側\n",
      "YouBike2.0_臺大二號館\n"
     ]
    }
   ],
   "source": [
    "import requests\n",
    "\n",
    "url = 'https://tcgbusfs.blob.core.windows.net/dotapp/youbike/v2/youbike_immediate.json'\n",
    "response = requests.get(url)\n",
    "data = response.json()\n",
    "\n",
    "def func(n):\n",
    "    return n['available_rent_bikes'] == 0\n",
    "\n",
    "zero_rent_bikes = list(filter(func,data))\n",
    "print(len(zero_rent_bikes))\n",
    "for site in zero_rent_bikes:\n",
    "    print(site['sna'])"
   ]
  },
  {
   "cell_type": "code",
   "execution_count": 5,
   "metadata": {},
   "outputs": [
    {
     "data": {
      "text/plain": [
       "[81, 72, 90]"
      ]
     },
     "execution_count": 5,
     "metadata": {},
     "output_type": "execute_result"
    }
   ],
   "source": [
    "scores = [78,69,87]\n",
    "new_scores = []\n",
    "\n",
    "for score in scores:\n",
    "    new_scores.append(score+3)\n",
    "\n",
    "new_scores"
   ]
  },
  {
   "cell_type": "code",
   "execution_count": 6,
   "metadata": {},
   "outputs": [
    {
     "data": {
      "text/plain": [
       "[81, 72, 68]"
      ]
     },
     "execution_count": 6,
     "metadata": {},
     "output_type": "execute_result"
    }
   ],
   "source": [
    "#list comprehention(快速建立list)\n",
    "scores = [78, 69, 65]\n",
    "new_scores = [score+3 for score in scores]\n",
    "new_scores"
   ]
  },
  {
   "cell_type": "code",
   "execution_count": 7,
   "metadata": {},
   "outputs": [
    {
     "data": {
      "text/plain": [
       "[78, 69, 65, 78, 69, 65]"
      ]
     },
     "execution_count": 7,
     "metadata": {},
     "output_type": "execute_result"
    }
   ],
   "source": [
    "scores = [78, 69, 65]\n",
    "scores * 2"
   ]
  },
  {
   "cell_type": "code",
   "execution_count": 8,
   "metadata": {},
   "outputs": [
    {
     "data": {
      "text/plain": [
       "[67, 92, 85, 78, 69, 65]"
      ]
     },
     "execution_count": 8,
     "metadata": {},
     "output_type": "execute_result"
    }
   ],
   "source": [
    "[67, 92, 85] + [78, 69, 65]"
   ]
  },
  {
   "cell_type": "code",
   "execution_count": 9,
   "metadata": {},
   "outputs": [
    {
     "name": "stdout",
     "output_type": "stream",
     "text": [
      "<class 'numpy.ndarray'>\n"
     ]
    },
    {
     "data": {
      "text/plain": [
       "array([81, 72, 68])"
      ]
     },
     "execution_count": 9,
     "metadata": {},
     "output_type": "execute_result"
    }
   ],
   "source": [
    "import numpy as np\n",
    "\n",
    "scores = np.array([78, 69, 65])\n",
    "print(type(scores))\n",
    "scores + 3"
   ]
  },
  {
   "cell_type": "code",
   "execution_count": 10,
   "metadata": {},
   "outputs": [
    {
     "data": {
      "text/plain": [
       "np.float64(69.0)"
      ]
     },
     "execution_count": 10,
     "metadata": {},
     "output_type": "execute_result"
    }
   ],
   "source": [
    "scores.sum()\n",
    "scores.mean()\n",
    "scores.std()\n",
    "scores.min()\n",
    "scores.max()\n",
    "np.median(scores)"
   ]
  }
 ],
 "metadata": {
  "kernelspec": {
   "display_name": "base",
   "language": "python",
   "name": "python3"
  },
  "language_info": {
   "codemirror_mode": {
    "name": "ipython",
    "version": 3
   },
   "file_extension": ".py",
   "mimetype": "text/x-python",
   "name": "python",
   "nbconvert_exporter": "python",
   "pygments_lexer": "ipython3",
   "version": "3.12.9"
  }
 },
 "nbformat": 4,
 "nbformat_minor": 2
}

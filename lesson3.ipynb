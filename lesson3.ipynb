{
 "cells": [
  {
   "cell_type": "code",
   "execution_count": 1,
   "metadata": {},
   "outputs": [
    {
     "data": {
      "text/plain": [
       "14"
      ]
     },
     "execution_count": 1,
     "metadata": {},
     "output_type": "execute_result"
    }
   ],
   "source": [
    "numbers = [1, 2, 3, 4, 5] #使用符號建立\n",
    "mixed_list = [1, \"Hello\",3.14, True] #元素值可以不同資料類型\n",
    "empty_list = []\n",
    "list_from_range = list(range(10,21))\n",
    "list_from_range\n",
    "\n",
    "#list的操作\n",
    "list_from_range[4] #subscript"
   ]
  },
  {
   "cell_type": "code",
   "execution_count": 2,
   "metadata": {},
   "outputs": [
    {
     "data": {
      "text/plain": [
       "[1, 3, 5, 7, 9]"
      ]
     },
     "execution_count": 2,
     "metadata": {},
     "output_type": "execute_result"
    }
   ],
   "source": [
    "range(5)\n",
    "range(1,5)\n",
    "list(range(1,10,2))"
   ]
  },
  {
   "cell_type": "code",
   "execution_count": 3,
   "metadata": {},
   "outputs": [],
   "source": [
    "my_list = list(range(1,10,2))"
   ]
  },
  {
   "cell_type": "code",
   "execution_count": 4,
   "metadata": {},
   "outputs": [
    {
     "data": {
      "text/plain": [
       "[67, 96]"
      ]
     },
     "execution_count": 4,
     "metadata": {},
     "output_type": "execute_result"
    }
   ],
   "source": [
    "empty_list = []\n",
    "empty_list.append(67)\n",
    "empty_list.append(96)\n",
    "empty_list"
   ]
  },
  {
   "cell_type": "code",
   "execution_count": 7,
   "metadata": {},
   "outputs": [
    {
     "data": {
      "text/plain": [
       "{'name': 'Tim', 'age': '28', 'city': 'taipei'}"
      ]
     },
     "execution_count": 7,
     "metadata": {},
     "output_type": "execute_result"
    }
   ],
   "source": [
    "p1 = {'name': 'Tim',\n",
    "'age' : '28',\n",
    "'city': 'taipei'}\n",
    "p1"
   ]
  },
  {
   "cell_type": "code",
   "execution_count": 12,
   "metadata": {},
   "outputs": [
    {
     "name": "stdout",
     "output_type": "stream",
     "text": [
      "Tim\n",
      "28\n"
     ]
    }
   ],
   "source": [
    "print(p1['name'])\n",
    "print(p1.get('age'))"
   ]
  },
  {
   "cell_type": "code",
   "execution_count": 16,
   "metadata": {},
   "outputs": [
    {
     "data": {
      "text/plain": [
       "'28'"
      ]
     },
     "execution_count": 16,
     "metadata": {},
     "output_type": "execute_result"
    }
   ],
   "source": [
    "p1.pop('age')"
   ]
  },
  {
   "cell_type": "code",
   "execution_count": 17,
   "metadata": {},
   "outputs": [
    {
     "data": {
      "text/plain": [
       "{'name': 'Tim'}"
      ]
     },
     "execution_count": 17,
     "metadata": {},
     "output_type": "execute_result"
    }
   ],
   "source": [
    "p1"
   ]
  },
  {
   "cell_type": "code",
   "execution_count": 18,
   "metadata": {},
   "outputs": [],
   "source": [
    "del p1"
   ]
  },
  {
   "cell_type": "code",
   "execution_count": 19,
   "metadata": {},
   "outputs": [
    {
     "ename": "NameError",
     "evalue": "name 'p1' is not defined",
     "output_type": "error",
     "traceback": [
      "\u001b[1;31m---------------------------------------------------------------------------\u001b[0m",
      "\u001b[1;31mNameError\u001b[0m                                 Traceback (most recent call last)",
      "Cell \u001b[1;32mIn[19], line 1\u001b[0m\n\u001b[1;32m----> 1\u001b[0m \u001b[43mp1\u001b[49m\n",
      "\u001b[1;31mNameError\u001b[0m: name 'p1' is not defined"
     ]
    }
   ],
   "source": [
    "p1"
   ]
  },
  {
   "cell_type": "markdown",
   "metadata": {},
   "source": [
    "-如何依順序取出串列資料和映射資料的元素值\n",
    "-for_in迴圈"
   ]
  },
  {
   "cell_type": "code",
   "execution_count": 20,
   "metadata": {},
   "outputs": [
    {
     "name": "stdout",
     "output_type": "stream",
     "text": [
      "蘋果\n",
      "香蕉\n",
      "橘子\n"
     ]
    }
   ],
   "source": [
    "fruits = ['蘋果', '香蕉', '橘子']\n",
    "for fruit in fruits:\n",
    "    print(fruit)"
   ]
  },
  {
   "cell_type": "code",
   "execution_count": 21,
   "metadata": {},
   "outputs": [
    {
     "name": "stdout",
     "output_type": "stream",
     "text": [
      "0->蘋果\n",
      "==========\n",
      "1->香蕉\n",
      "==========\n",
      "2->橘子\n",
      "==========\n"
     ]
    }
   ],
   "source": [
    "for index,fruit in enumerate(fruits):\n",
    "    print(index, fruit,sep='->')\n",
    "    print(\"==========\");"
   ]
  },
  {
   "cell_type": "code",
   "execution_count": 22,
   "metadata": {},
   "outputs": [
    {
     "name": "stdout",
     "output_type": "stream",
     "text": [
      "Taipei: 台北\n",
      "New Taipei: 新北市\n",
      "Taoyuan: 桃園\n",
      "Taichung: 台中\n",
      "Tainan: 台南\n",
      "Kaohsiung: 高雄\n",
      "Keelung: 基隆\n",
      "Hsinchu: 新竹\n",
      "Chiayi: 嘉義\n",
      "Hualien: 花蓮\n"
     ]
    }
   ],
   "source": [
    "cities = {\n",
    "    'Taipei': '台北',\n",
    "    'New Taipei': '新北市',\n",
    "    'Taoyuan': '桃園',\n",
    "    'Taichung': '台中',\n",
    "    'Tainan': '台南',\n",
    "    'Kaohsiung': '高雄',\n",
    "    'Keelung': '基隆',\n",
    "    'Hsinchu': '新竹',\n",
    "    'Chiayi': '嘉義',\n",
    "    'Hualien': '花蓮'\n",
    "}\n",
    "for key, value in cities.items():\n",
    "    print(f\"{key}: {value}\")"
   ]
  }
 ],
 "metadata": {
  "kernelspec": {
   "display_name": "base",
   "language": "python",
   "name": "python3"
  },
  "language_info": {
   "codemirror_mode": {
    "name": "ipython",
    "version": 3
   },
   "file_extension": ".py",
   "mimetype": "text/x-python",
   "name": "python",
   "nbconvert_exporter": "python",
   "pygments_lexer": "ipython3",
   "version": "3.12.3"
  }
 },
 "nbformat": 4,
 "nbformat_minor": 2
}

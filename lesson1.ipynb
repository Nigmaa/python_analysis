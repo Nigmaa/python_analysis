{
 "cells": [
  {
   "cell_type": "code",
   "execution_count": 2,
   "metadata": {},
   "outputs": [
    {
     "name": "stdout",
     "output_type": "stream",
     "text": [
      "5\n"
     ]
    },
    {
     "data": {
      "text/plain": [
       "str"
      ]
     },
     "execution_count": 2,
     "metadata": {},
     "output_type": "execute_result"
    }
   ],
   "source": [
    "#整數\n",
    "print(\"5\")\n",
    "type(\"5\")"
   ]
  },
  {
   "cell_type": "code",
   "execution_count": 3,
   "metadata": {},
   "outputs": [
    {
     "name": "stdout",
     "output_type": "stream",
     "text": [
      "5.0\n"
     ]
    },
    {
     "data": {
      "text/plain": [
       "float"
      ]
     },
     "execution_count": 3,
     "metadata": {},
     "output_type": "execute_result"
    }
   ],
   "source": [
    "#浮點數\n",
    "print(5.0)\n",
    "type(5.0)"
   ]
  },
  {
   "cell_type": "code",
   "execution_count": 5,
   "metadata": {},
   "outputs": [
    {
     "name": "stdout",
     "output_type": "stream",
     "text": [
      "5\n"
     ]
    },
    {
     "data": {
      "text/plain": [
       "int"
      ]
     },
     "execution_count": 5,
     "metadata": {},
     "output_type": "execute_result"
    }
   ],
   "source": [
    "#整數\n",
    "print(5)\n",
    "type(5)"
   ]
  },
  {
   "cell_type": "code",
   "execution_count": 8,
   "metadata": {},
   "outputs": [
    {
     "name": "stdout",
     "output_type": "stream",
     "text": [
      "15\n",
      "-5\n",
      "50\n",
      "3.3333333333333335\n",
      "3\n",
      "27\n",
      "1\n"
     ]
    }
   ],
   "source": [
    "print(5 + 10)\n",
    "print(5 - 10)\n",
    "print(5 * 10)\n",
    "print(10 / 3)\n",
    "print(10 // 3)\n",
    "print(3 ** 3)\n",
    "print(10 % 3)"
   ]
  },
  {
   "cell_type": "code",
   "execution_count": 3,
   "metadata": {},
   "outputs": [
    {
     "name": "stdout",
     "output_type": "stream",
     "text": [
      "10\n",
      "20\n"
     ]
    }
   ],
   "source": [
    "print(2 * (1 + 2) ** 2 - 2 ** 2 * 2)\n",
    "print((2+3)*4)"
   ]
  },
  {
   "cell_type": "code",
   "execution_count": 4,
   "metadata": {},
   "outputs": [
    {
     "name": "stdout",
     "output_type": "stream",
     "text": [
      "17\n"
     ]
    }
   ],
   "source": [
    "n = 1 + 5\n",
    "m = n + 5\n",
    "print(m+n)"
   ]
  },
  {
   "cell_type": "code",
   "execution_count": 6,
   "metadata": {},
   "outputs": [
    {
     "data": {
      "text/plain": [
       "55"
      ]
     },
     "execution_count": 6,
     "metadata": {},
     "output_type": "execute_result"
    }
   ],
   "source": [
    "x = input(\"請輸入數值\")\n",
    "int(x) + 10\n"
   ]
  },
  {
   "cell_type": "code",
   "execution_count": 8,
   "metadata": {},
   "outputs": [
    {
     "name": "stdout",
     "output_type": "stream",
     "text": [
      "半徑: 45.0\n",
      "直徑: 90.0\n",
      "圓周長: 282.743339265\n",
      "圓面積: 6361.7251334625\n"
     ]
    }
   ],
   "source": [
    "radius = float(input(\"請輸入半徑:\"))\n",
    "diameter = 2 * radius\n",
    "circumference = 2 * 3.1415926585 *radius\n",
    "area = 3.1415926585 * radius ** 2\n",
    "\n",
    "print(\"半徑:\",radius)\n",
    "print(\"直徑:\",diameter)\n",
    "print(\"圓周長:\",circumference)\n",
    "print(\"圓面積:\",area)"
   ]
  },
  {
   "cell_type": "code",
   "execution_count": 10,
   "metadata": {},
   "outputs": [
    {
     "name": "stdout",
     "output_type": "stream",
     "text": [
      "對邊: 3.0\n",
      "鄰邊: 4.0\n",
      "斜邊: 5.0\n"
     ]
    }
   ],
   "source": [
    "import math\n",
    "side = float(input(\"請輸入對邊\"))\n",
    "another_side = float(input(\"請輸入鄰邊\"))\n",
    "side ** 2 + another_side ** 2\n",
    "each_side = math.sqrt(side ** 2 + another_side ** 2)\n",
    "print(\"對邊:\",side)\n",
    "print(\"鄰邊:\",another_side)\n",
    "print(\"斜邊:\",each_side)"
   ]
  },
  {
   "cell_type": "code",
   "execution_count": 11,
   "metadata": {},
   "outputs": [],
   "source": [
    "import numpy as np"
   ]
  }
 ],
 "metadata": {
  "kernelspec": {
   "display_name": "base",
   "language": "python",
   "name": "python3"
  },
  "language_info": {
   "codemirror_mode": {
    "name": "ipython",
    "version": 3
   },
   "file_extension": ".py",
   "mimetype": "text/x-python",
   "name": "python",
   "nbconvert_exporter": "python",
   "pygments_lexer": "ipython3",
   "version": "3.12.2"
  }
 },
 "nbformat": 4,
 "nbformat_minor": 2
}

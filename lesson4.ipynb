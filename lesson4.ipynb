{
 "cells": [
  {
   "cell_type": "code",
   "execution_count": 1,
   "metadata": {},
   "outputs": [
    {
     "data": {
      "text/plain": [
       "15"
      ]
     },
     "execution_count": 1,
     "metadata": {},
     "output_type": "execute_result"
    }
   ],
   "source": [
    "total=sum((1,2,3,4,5))\n",
    "total    "
   ]
  },
  {
   "cell_type": "code",
   "execution_count": 2,
   "metadata": {},
   "outputs": [
    {
     "data": {
      "text/plain": [
       "15"
      ]
     },
     "execution_count": 2,
     "metadata": {},
     "output_type": "execute_result"
    }
   ],
   "source": [
    "total = sum((1,2,3,4,5))\n",
    "total"
   ]
  },
  {
   "cell_type": "code",
   "execution_count": 3,
   "metadata": {},
   "outputs": [
    {
     "data": {
      "text/plain": [
       "15"
      ]
     },
     "execution_count": 3,
     "metadata": {},
     "output_type": "execute_result"
    }
   ],
   "source": [
    "def myFunction():\n",
    "    return [1, 2, 3, 4, 5]\n",
    "\n",
    "total = sum(myFunction())\n",
    "total"
   ]
  },
  {
   "cell_type": "code",
   "execution_count": 4,
   "metadata": {},
   "outputs": [
    {
     "data": {
      "text/plain": [
       "[1, 2, 3, 4, 5]"
      ]
     },
     "execution_count": 4,
     "metadata": {},
     "output_type": "execute_result"
    }
   ],
   "source": [
    "l2 = list((1,2,3,4,5))\n",
    "l2"
   ]
  },
  {
   "cell_type": "code",
   "execution_count": 5,
   "metadata": {},
   "outputs": [
    {
     "data": {
      "text/plain": [
       "[1, 2, 3, 4, 5, 6]"
      ]
     },
     "execution_count": 5,
     "metadata": {},
     "output_type": "execute_result"
    }
   ],
   "source": [
    "l2.append(6)\n",
    "l2"
   ]
  },
  {
   "cell_type": "code",
   "execution_count": 13,
   "metadata": {},
   "outputs": [
    {
     "name": "stdout",
     "output_type": "stream",
     "text": [
      "10\n"
     ]
    }
   ],
   "source": [
    "def myfunctin(coffee):\n",
    "    m = print(coffee)\n",
    "    return m\n",
    "\n",
    "hi = myfunctin(10)\n",
    "\n",
    "\n",
    "    "
   ]
  },
  {
   "cell_type": "code",
   "execution_count": 10,
   "metadata": {},
   "outputs": [],
   "source": [
    "file = open(file='student.csv',encoding='utf-8')\n",
    "file.close()"
   ]
  },
  {
   "cell_type": "code",
   "execution_count": 12,
   "metadata": {},
   "outputs": [
    {
     "name": "stdout",
     "output_type": "stream",
     "text": [
      "name,chinese,english,math,history,health\n",
      "student1,97,54,61,95,81\n",
      "student2,65,66,100,96,73\n",
      "student3,93,54,84,92,86\n",
      "student4,64,86,94,77,77\n",
      "student5,51,71,63,68,53\n",
      "student6,100,98,72,98,50\n",
      "student7,79,71,81,71,98\n",
      "student8,71,97,79,100,94\n",
      "student9,56,78,85,52,92\n",
      "student10,50,99,84,52,66\n",
      "student11,52,78,79,85,100\n",
      "student12,92,63,97,80,88\n",
      "student13,96,78,73,69,97\n",
      "student14,90,52,66,85,86\n",
      "student15,60,57,52,61,71\n",
      "student16,55,84,92,86,99\n",
      "student17,69,76,95,96,77\n",
      "student18,65,92,92,63,77\n",
      "student19,90,57,99,83,97\n",
      "student20,52,99,63,61,53\n",
      "student21,74,89,68,100,68\n",
      "student22,52,73,66,65,52\n",
      "student23,50,64,61,59,100\n",
      "student24,91,71,63,51,60\n",
      "student25,65,64,93,98,91\n",
      "student26,82,58,68,95,52\n",
      "student27,100,67,96,72,63\n",
      "student28,70,70,52,65,62\n",
      "student29,73,56,74,50,99\n",
      "student30,80,100,82,87,98\n",
      "student31,74,86,88,100,62\n",
      "student32,87,74,89,69,64\n",
      "student33,53,99,83,70,84\n",
      "student34,91,69,53,70,82\n",
      "student35,75,96,72,96,50\n",
      "student36,83,74,100,58,81\n",
      "student37,78,53,58,80,87\n",
      "student38,98,87,82,97,65\n",
      "student39,98,88,90,50,97\n",
      "student40,87,71,95,98,76\n",
      "student41,61,85,81,78,54\n",
      "student42,97,63,73,73,70\n",
      "student43,72,95,80,69,87\n",
      "student44,78,96,51,95,84\n",
      "student45,84,78,81,80,92\n",
      "student46,95,80,71,88,56\n",
      "student47,93,53,63,55,54\n",
      "student48,98,56,99,63,82\n",
      "student49,60,70,91,76,89\n",
      "student50,96,83,69,50,79\n",
      "\n"
     ]
    }
   ],
   "source": [
    "with open(file='student.csv',encoding='utf-8') as file:\n",
    "    content = file.read()\n",
    "\n",
    "print(content)"
   ]
  }
 ],
 "metadata": {
  "kernelspec": {
   "display_name": "base",
   "language": "python",
   "name": "python3"
  },
  "language_info": {
   "codemirror_mode": {
    "name": "ipython",
    "version": 3
   },
   "file_extension": ".py",
   "mimetype": "text/x-python",
   "name": "python",
   "nbconvert_exporter": "python",
   "pygments_lexer": "ipython3",
   "version": "3.12.8"
  }
 },
 "nbformat": 4,
 "nbformat_minor": 2
}

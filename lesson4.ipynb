{
 "cells": [
  {
   "cell_type": "code",
   "execution_count": 1,
   "metadata": {},
   "outputs": [
    {
     "data": {
      "text/plain": [
       "15"
      ]
     },
     "execution_count": 1,
     "metadata": {},
     "output_type": "execute_result"
    }
   ],
   "source": [
    "total=sum((1,2,3,4,5))\n",
    "total    "
   ]
  },
  {
   "cell_type": "code",
   "execution_count": 2,
   "metadata": {},
   "outputs": [
    {
     "data": {
      "text/plain": [
       "15"
      ]
     },
     "execution_count": 2,
     "metadata": {},
     "output_type": "execute_result"
    }
   ],
   "source": [
    "total = sum((1,2,3,4,5))\n",
    "total"
   ]
  },
  {
   "cell_type": "code",
   "execution_count": 3,
   "metadata": {},
   "outputs": [
    {
     "data": {
      "text/plain": [
       "15"
      ]
     },
     "execution_count": 3,
     "metadata": {},
     "output_type": "execute_result"
    }
   ],
   "source": [
    "def myFunction():\n",
    "    return [1, 2, 3, 4, 5]\n",
    "\n",
    "total = sum(myFunction())\n",
    "total"
   ]
  },
  {
   "cell_type": "code",
   "execution_count": 4,
   "metadata": {},
   "outputs": [
    {
     "data": {
      "text/plain": [
       "[1, 2, 3, 4, 5]"
      ]
     },
     "execution_count": 4,
     "metadata": {},
     "output_type": "execute_result"
    }
   ],
   "source": [
    "l2 = list((1,2,3,4,5))\n",
    "l2"
   ]
  },
  {
   "cell_type": "code",
   "execution_count": 5,
   "metadata": {},
   "outputs": [
    {
     "data": {
      "text/plain": [
       "[1, 2, 3, 4, 5, 6]"
      ]
     },
     "execution_count": 5,
     "metadata": {},
     "output_type": "execute_result"
    }
   ],
   "source": [
    "l2.append(6)\n",
    "l2"
   ]
  },
  {
   "cell_type": "code",
   "execution_count": 13,
   "metadata": {},
   "outputs": [
    {
     "name": "stdout",
     "output_type": "stream",
     "text": [
      "10\n"
     ]
    }
   ],
   "source": [
    "def myfunctin(coffee):\n",
    "    m = print(coffee)\n",
    "    return m\n",
    "\n",
    "hi = myfunctin(10)\n",
    "\n",
    "\n",
    "    "
   ]
  },
  {
   "cell_type": "code",
   "execution_count": 10,
   "metadata": {},
   "outputs": [],
   "source": [
    "file = open(file='student.csv',encoding='utf-8')\n",
    "file.close()"
   ]
  },
  {
   "cell_type": "code",
   "execution_count": 12,
   "metadata": {},
   "outputs": [
    {
     "name": "stdout",
     "output_type": "stream",
     "text": [
      "name,chinese,english,math,history,health\n",
      "student1,97,54,61,95,81\n",
      "student2,65,66,100,96,73\n",
      "student3,93,54,84,92,86\n",
      "student4,64,86,94,77,77\n",
      "student5,51,71,63,68,53\n",
      "student6,100,98,72,98,50\n",
      "student7,79,71,81,71,98\n",
      "student8,71,97,79,100,94\n",
      "student9,56,78,85,52,92\n",
      "student10,50,99,84,52,66\n",
      "student11,52,78,79,85,100\n",
      "student12,92,63,97,80,88\n",
      "student13,96,78,73,69,97\n",
      "student14,90,52,66,85,86\n",
      "student15,60,57,52,61,71\n",
      "student16,55,84,92,86,99\n",
      "student17,69,76,95,96,77\n",
      "student18,65,92,92,63,77\n",
      "student19,90,57,99,83,97\n",
      "student20,52,99,63,61,53\n",
      "student21,74,89,68,100,68\n",
      "student22,52,73,66,65,52\n",
      "student23,50,64,61,59,100\n",
      "student24,91,71,63,51,60\n",
      "student25,65,64,93,98,91\n",
      "student26,82,58,68,95,52\n",
      "student27,100,67,96,72,63\n",
      "student28,70,70,52,65,62\n",
      "student29,73,56,74,50,99\n",
      "student30,80,100,82,87,98\n",
      "student31,74,86,88,100,62\n",
      "student32,87,74,89,69,64\n",
      "student33,53,99,83,70,84\n",
      "student34,91,69,53,70,82\n",
      "student35,75,96,72,96,50\n",
      "student36,83,74,100,58,81\n",
      "student37,78,53,58,80,87\n",
      "student38,98,87,82,97,65\n",
      "student39,98,88,90,50,97\n",
      "student40,87,71,95,98,76\n",
      "student41,61,85,81,78,54\n",
      "student42,97,63,73,73,70\n",
      "student43,72,95,80,69,87\n",
      "student44,78,96,51,95,84\n",
      "student45,84,78,81,80,92\n",
      "student46,95,80,71,88,56\n",
      "student47,93,53,63,55,54\n",
      "student48,98,56,99,63,82\n",
      "student49,60,70,91,76,89\n",
      "student50,96,83,69,50,79\n",
      "\n"
     ]
    }
   ],
   "source": [
    "with open(file='student.csv',encoding='utf-8') as file:\n",
    "    content = file.read()\n",
    "\n",
    "print(content)"
   ]
  },
  {
   "cell_type": "code",
   "execution_count": 8,
   "metadata": {},
   "outputs": [
    {
     "name": "stdout",
     "output_type": "stream",
     "text": [
      "['name', 'chinese', 'english', 'math', 'history', 'health']\n",
      "['student1', '97', '54', '61', '95', '81']\n",
      "['student2', '65', '66', '100', '96', '73']\n",
      "['student3', '93', '54', '84', '92', '86']\n",
      "['student4', '64', '86', '94', '77', '77']\n",
      "['student5', '51', '71', '63', '68', '53']\n",
      "['student6', '100', '98', '72', '98', '50']\n",
      "['student7', '79', '71', '81', '71', '98']\n",
      "['student8', '71', '97', '79', '100', '94']\n",
      "['student9', '56', '78', '85', '52', '92']\n",
      "['student10', '50', '99', '84', '52', '66']\n",
      "['student11', '52', '78', '79', '85', '100']\n",
      "['student12', '92', '63', '97', '80', '88']\n",
      "['student13', '96', '78', '73', '69', '97']\n",
      "['student14', '90', '52', '66', '85', '86']\n",
      "['student15', '60', '57', '52', '61', '71']\n",
      "['student16', '55', '84', '92', '86', '99']\n",
      "['student17', '69', '76', '95', '96', '77']\n",
      "['student18', '65', '92', '92', '63', '77']\n",
      "['student19', '90', '57', '99', '83', '97']\n",
      "['student20', '52', '99', '63', '61', '53']\n",
      "['student20', '52', '99', '63', '61', '53']\n",
      "['student21', '74', '89', '68', '100', '68']\n",
      "['student22', '52', '73', '66', '65', '52']\n",
      "['student23', '50', '64', '61', '59', '100']\n",
      "['student24', '91', '71', '63', '51', '60']\n",
      "['student25', '65', '64', '93', '98', '91']\n",
      "['student26', '82', '58', '68', '95', '52']\n",
      "['student27', '100', '67', '96', '72', '63']\n",
      "['student28', '70', '70', '52', '65', '62']\n",
      "['student29', '73', '56', '74', '50', '99']\n",
      "['student30', '80', '100', '82', '87', '98']\n",
      "['student31', '74', '86', '88', '100', '62']\n",
      "['student32', '87', '74', '89', '69', '64']\n",
      "['student33', '53', '99', '83', '70', '84']\n",
      "['student34', '91', '69', '53', '70', '82']\n",
      "['student35', '75', '96', '72', '96', '50']\n",
      "['student36', '83', '74', '100', '58', '81']\n",
      "['student37', '78', '53', '58', '80', '87']\n",
      "['student38', '98', '87', '82', '97', '65']\n",
      "['student39', '98', '88', '90', '50', '97']\n",
      "['student40', '87', '71', '95', '98', '76']\n",
      "['student41', '61', '85', '81', '78', '54']\n",
      "['student42', '97', '63', '73', '73', '70']\n",
      "['student43', '72', '95', '80', '69', '87']\n",
      "['student44', '78', '96', '51', '95', '84']\n",
      "['student45', '84', '78', '81', '80', '92']\n",
      "['student46', '95', '80', '71', '88', '56']\n",
      "['student47', '93', '53', '63', '55', '54']\n",
      "['student48', '98', '56', '99', '63', '82']\n",
      "['student49', '60', '70', '91', '76', '89']\n",
      "['student50', '96', '83', '69', '50', '79']\n"
     ]
    }
   ],
   "source": [
    "import csv\n",
    "with open(file='student.csv',encoding='utf-8') as file:\n",
    "    reader = csv.reader(file)\n",
    "    students = list(reader)\n",
    "\n",
    "for student in students:\n",
    "    print(student)\n",
    "    if student[0] == 'student20':\n",
    "        print(student)"
   ]
  },
  {
   "cell_type": "code",
   "execution_count": null,
   "metadata": {},
   "outputs": [
    {
     "name": "stdout",
     "output_type": "stream",
     "text": [
      "[{'name': 'student1', 'chinese': '97', 'english': '54', 'math': '61', 'history': '95', 'health': '81'}, {'name': 'student2', 'chinese': '65', 'english': '66', 'math': '100', 'history': '96', 'health': '73'}, {'name': 'student3', 'chinese': '93', 'english': '54', 'math': '84', 'history': '92', 'health': '86'}, {'name': 'student4', 'chinese': '64', 'english': '86', 'math': '94', 'history': '77', 'health': '77'}, {'name': 'student5', 'chinese': '51', 'english': '71', 'math': '63', 'history': '68', 'health': '53'}, {'name': 'student6', 'chinese': '100', 'english': '98', 'math': '72', 'history': '98', 'health': '50'}, {'name': 'student7', 'chinese': '79', 'english': '71', 'math': '81', 'history': '71', 'health': '98'}, {'name': 'student8', 'chinese': '71', 'english': '97', 'math': '79', 'history': '100', 'health': '94'}, {'name': 'student9', 'chinese': '56', 'english': '78', 'math': '85', 'history': '52', 'health': '92'}, {'name': 'student10', 'chinese': '50', 'english': '99', 'math': '84', 'history': '52', 'health': '66'}, {'name': 'student11', 'chinese': '52', 'english': '78', 'math': '79', 'history': '85', 'health': '100'}, {'name': 'student12', 'chinese': '92', 'english': '63', 'math': '97', 'history': '80', 'health': '88'}, {'name': 'student13', 'chinese': '96', 'english': '78', 'math': '73', 'history': '69', 'health': '97'}, {'name': 'student14', 'chinese': '90', 'english': '52', 'math': '66', 'history': '85', 'health': '86'}, {'name': 'student15', 'chinese': '60', 'english': '57', 'math': '52', 'history': '61', 'health': '71'}, {'name': 'student16', 'chinese': '55', 'english': '84', 'math': '92', 'history': '86', 'health': '99'}, {'name': 'student17', 'chinese': '69', 'english': '76', 'math': '95', 'history': '96', 'health': '77'}, {'name': 'student18', 'chinese': '65', 'english': '92', 'math': '92', 'history': '63', 'health': '77'}, {'name': 'student19', 'chinese': '90', 'english': '57', 'math': '99', 'history': '83', 'health': '97'}, {'name': 'student20', 'chinese': '52', 'english': '99', 'math': '63', 'history': '61', 'health': '53'}, {'name': 'student21', 'chinese': '74', 'english': '89', 'math': '68', 'history': '100', 'health': '68'}, {'name': 'student22', 'chinese': '52', 'english': '73', 'math': '66', 'history': '65', 'health': '52'}, {'name': 'student23', 'chinese': '50', 'english': '64', 'math': '61', 'history': '59', 'health': '100'}, {'name': 'student24', 'chinese': '91', 'english': '71', 'math': '63', 'history': '51', 'health': '60'}, {'name': 'student25', 'chinese': '65', 'english': '64', 'math': '93', 'history': '98', 'health': '91'}, {'name': 'student26', 'chinese': '82', 'english': '58', 'math': '68', 'history': '95', 'health': '52'}, {'name': 'student27', 'chinese': '100', 'english': '67', 'math': '96', 'history': '72', 'health': '63'}, {'name': 'student28', 'chinese': '70', 'english': '70', 'math': '52', 'history': '65', 'health': '62'}, {'name': 'student29', 'chinese': '73', 'english': '56', 'math': '74', 'history': '50', 'health': '99'}, {'name': 'student30', 'chinese': '80', 'english': '100', 'math': '82', 'history': '87', 'health': '98'}, {'name': 'student31', 'chinese': '74', 'english': '86', 'math': '88', 'history': '100', 'health': '62'}, {'name': 'student32', 'chinese': '87', 'english': '74', 'math': '89', 'history': '69', 'health': '64'}, {'name': 'student33', 'chinese': '53', 'english': '99', 'math': '83', 'history': '70', 'health': '84'}, {'name': 'student34', 'chinese': '91', 'english': '69', 'math': '53', 'history': '70', 'health': '82'}, {'name': 'student35', 'chinese': '75', 'english': '96', 'math': '72', 'history': '96', 'health': '50'}, {'name': 'student36', 'chinese': '83', 'english': '74', 'math': '100', 'history': '58', 'health': '81'}, {'name': 'student37', 'chinese': '78', 'english': '53', 'math': '58', 'history': '80', 'health': '87'}, {'name': 'student38', 'chinese': '98', 'english': '87', 'math': '82', 'history': '97', 'health': '65'}, {'name': 'student39', 'chinese': '98', 'english': '88', 'math': '90', 'history': '50', 'health': '97'}, {'name': 'student40', 'chinese': '87', 'english': '71', 'math': '95', 'history': '98', 'health': '76'}, {'name': 'student41', 'chinese': '61', 'english': '85', 'math': '81', 'history': '78', 'health': '54'}, {'name': 'student42', 'chinese': '97', 'english': '63', 'math': '73', 'history': '73', 'health': '70'}, {'name': 'student43', 'chinese': '72', 'english': '95', 'math': '80', 'history': '69', 'health': '87'}, {'name': 'student44', 'chinese': '78', 'english': '96', 'math': '51', 'history': '95', 'health': '84'}, {'name': 'student45', 'chinese': '84', 'english': '78', 'math': '81', 'history': '80', 'health': '92'}, {'name': 'student46', 'chinese': '95', 'english': '80', 'math': '71', 'history': '88', 'health': '56'}, {'name': 'student47', 'chinese': '93', 'english': '53', 'math': '63', 'history': '55', 'health': '54'}, {'name': 'student48', 'chinese': '98', 'english': '56', 'math': '99', 'history': '63', 'health': '82'}, {'name': 'student49', 'chinese': '60', 'english': '70', 'math': '91', 'history': '76', 'health': '89'}, {'name': 'student50', 'chinese': '96', 'english': '83', 'math': '69', 'history': '50', 'health': '79'}]\n",
      "{'name': 'student1', 'chinese': '97', 'english': '54', 'math': '61', 'history': '95', 'health': '81'}\n",
      "{'name': 'student2', 'chinese': '65', 'english': '66', 'math': '100', 'history': '96', 'health': '73'}\n",
      "{'name': 'student3', 'chinese': '93', 'english': '54', 'math': '84', 'history': '92', 'health': '86'}\n",
      "{'name': 'student4', 'chinese': '64', 'english': '86', 'math': '94', 'history': '77', 'health': '77'}\n",
      "{'name': 'student5', 'chinese': '51', 'english': '71', 'math': '63', 'history': '68', 'health': '53'}\n",
      "{'name': 'student6', 'chinese': '100', 'english': '98', 'math': '72', 'history': '98', 'health': '50'}\n",
      "{'name': 'student7', 'chinese': '79', 'english': '71', 'math': '81', 'history': '71', 'health': '98'}\n",
      "{'name': 'student8', 'chinese': '71', 'english': '97', 'math': '79', 'history': '100', 'health': '94'}\n",
      "{'name': 'student9', 'chinese': '56', 'english': '78', 'math': '85', 'history': '52', 'health': '92'}\n",
      "{'name': 'student10', 'chinese': '50', 'english': '99', 'math': '84', 'history': '52', 'health': '66'}\n",
      "{'name': 'student11', 'chinese': '52', 'english': '78', 'math': '79', 'history': '85', 'health': '100'}\n",
      "{'name': 'student12', 'chinese': '92', 'english': '63', 'math': '97', 'history': '80', 'health': '88'}\n",
      "{'name': 'student13', 'chinese': '96', 'english': '78', 'math': '73', 'history': '69', 'health': '97'}\n",
      "{'name': 'student14', 'chinese': '90', 'english': '52', 'math': '66', 'history': '85', 'health': '86'}\n",
      "{'name': 'student15', 'chinese': '60', 'english': '57', 'math': '52', 'history': '61', 'health': '71'}\n",
      "{'name': 'student16', 'chinese': '55', 'english': '84', 'math': '92', 'history': '86', 'health': '99'}\n",
      "{'name': 'student17', 'chinese': '69', 'english': '76', 'math': '95', 'history': '96', 'health': '77'}\n",
      "{'name': 'student18', 'chinese': '65', 'english': '92', 'math': '92', 'history': '63', 'health': '77'}\n",
      "{'name': 'student19', 'chinese': '90', 'english': '57', 'math': '99', 'history': '83', 'health': '97'}\n",
      "{'name': 'student20', 'chinese': '52', 'english': '99', 'math': '63', 'history': '61', 'health': '53'}\n",
      "{'name': 'student20', 'chinese': '52', 'english': '99', 'math': '63', 'history': '61', 'health': '53'}\n",
      "{'name': 'student21', 'chinese': '74', 'english': '89', 'math': '68', 'history': '100', 'health': '68'}\n",
      "{'name': 'student22', 'chinese': '52', 'english': '73', 'math': '66', 'history': '65', 'health': '52'}\n",
      "{'name': 'student23', 'chinese': '50', 'english': '64', 'math': '61', 'history': '59', 'health': '100'}\n",
      "{'name': 'student24', 'chinese': '91', 'english': '71', 'math': '63', 'history': '51', 'health': '60'}\n",
      "{'name': 'student25', 'chinese': '65', 'english': '64', 'math': '93', 'history': '98', 'health': '91'}\n",
      "{'name': 'student26', 'chinese': '82', 'english': '58', 'math': '68', 'history': '95', 'health': '52'}\n",
      "{'name': 'student27', 'chinese': '100', 'english': '67', 'math': '96', 'history': '72', 'health': '63'}\n",
      "{'name': 'student28', 'chinese': '70', 'english': '70', 'math': '52', 'history': '65', 'health': '62'}\n",
      "{'name': 'student29', 'chinese': '73', 'english': '56', 'math': '74', 'history': '50', 'health': '99'}\n",
      "{'name': 'student30', 'chinese': '80', 'english': '100', 'math': '82', 'history': '87', 'health': '98'}\n",
      "{'name': 'student31', 'chinese': '74', 'english': '86', 'math': '88', 'history': '100', 'health': '62'}\n",
      "{'name': 'student32', 'chinese': '87', 'english': '74', 'math': '89', 'history': '69', 'health': '64'}\n",
      "{'name': 'student33', 'chinese': '53', 'english': '99', 'math': '83', 'history': '70', 'health': '84'}\n",
      "{'name': 'student34', 'chinese': '91', 'english': '69', 'math': '53', 'history': '70', 'health': '82'}\n",
      "{'name': 'student35', 'chinese': '75', 'english': '96', 'math': '72', 'history': '96', 'health': '50'}\n",
      "{'name': 'student36', 'chinese': '83', 'english': '74', 'math': '100', 'history': '58', 'health': '81'}\n",
      "{'name': 'student37', 'chinese': '78', 'english': '53', 'math': '58', 'history': '80', 'health': '87'}\n",
      "{'name': 'student38', 'chinese': '98', 'english': '87', 'math': '82', 'history': '97', 'health': '65'}\n",
      "{'name': 'student39', 'chinese': '98', 'english': '88', 'math': '90', 'history': '50', 'health': '97'}\n",
      "{'name': 'student40', 'chinese': '87', 'english': '71', 'math': '95', 'history': '98', 'health': '76'}\n",
      "{'name': 'student41', 'chinese': '61', 'english': '85', 'math': '81', 'history': '78', 'health': '54'}\n",
      "{'name': 'student42', 'chinese': '97', 'english': '63', 'math': '73', 'history': '73', 'health': '70'}\n",
      "{'name': 'student43', 'chinese': '72', 'english': '95', 'math': '80', 'history': '69', 'health': '87'}\n",
      "{'name': 'student44', 'chinese': '78', 'english': '96', 'math': '51', 'history': '95', 'health': '84'}\n",
      "{'name': 'student45', 'chinese': '84', 'english': '78', 'math': '81', 'history': '80', 'health': '92'}\n",
      "{'name': 'student46', 'chinese': '95', 'english': '80', 'math': '71', 'history': '88', 'health': '56'}\n",
      "{'name': 'student47', 'chinese': '93', 'english': '53', 'math': '63', 'history': '55', 'health': '54'}\n",
      "{'name': 'student48', 'chinese': '98', 'english': '56', 'math': '99', 'history': '63', 'health': '82'}\n",
      "{'name': 'student49', 'chinese': '60', 'english': '70', 'math': '91', 'history': '76', 'health': '89'}\n",
      "{'name': 'student50', 'chinese': '96', 'english': '83', 'math': '69', 'history': '50', 'health': '79'}\n"
     ]
    }
   ],
   "source": [
    "import csv\n",
    "with open(file='student.csv',encoding='utf-8') as file:\n",
    "    reader = csv.DictReader(file)\n",
    "    students = list(reader)\n",
    "print(students)\n",
    "\n",
    "for student in students:\n",
    "    print(student)\n",
    "    if student['name'] == 'student20':\n",
    "        print(student)"
   ]
  }
 ],
 "metadata": {
  "kernelspec": {
   "display_name": "base",
   "language": "python",
   "name": "python3"
  },
  "language_info": {
   "codemirror_mode": {
    "name": "ipython",
    "version": 3
   },
   "file_extension": ".py",
   "mimetype": "text/x-python",
   "name": "python",
   "nbconvert_exporter": "python",
   "pygments_lexer": "ipython3",
   "version": "3.12.8"
  }
 },
 "nbformat": 4,
 "nbformat_minor": 2
}
